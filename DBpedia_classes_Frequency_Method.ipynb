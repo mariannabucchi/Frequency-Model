{
 "cells": [
  {
   "cell_type": "code",
   "execution_count": 1,
   "metadata": {},
   "outputs": [],
   "source": [
    "import pandas as pd\n",
    "import json\n",
    "from SPARQLWrapper import SPARQLWrapper, JSON\n",
    "\n",
    "\n"
   ]
  },
  {
   "cell_type": "code",
   "execution_count": 2,
   "metadata": {},
   "outputs": [],
   "source": [
    "dataset = pd.read_csv(\"/Users/mariannabucchi/Desktop/Levenshtein/CTA_trials_weighted_average/LAcity.org_Website_Traffic.csv\")\n",
    "uris = dataset[\"Browser_answer_dburi\"].tolist()\n"
   ]
  },
  {
   "cell_type": "code",
   "execution_count": 3,
   "metadata": {},
   "outputs": [],
   "source": [
    "uris = pd.Series(uris)\n"
   ]
  },
  {
   "cell_type": "code",
   "execution_count": 4,
   "metadata": {},
   "outputs": [],
   "source": [
    "uris = uris.dropna()\n"
   ]
  },
  {
   "cell_type": "code",
   "execution_count": 5,
   "metadata": {},
   "outputs": [],
   "source": [
    "#RETRIEVE CLASS FROM EACH INSTANCE\n",
    "def is_instance_of(uri):\n",
    "        sparqldb = SPARQLWrapper(\"http://dbpedia.org/sparql\")\n",
    "        sparqldb.setQuery(\n",
    "            'select distinct ?x where {{ <{}> <http://www.w3.org/1999/02/22-rdf-syntax-ns#type> ?x . '\n",
    "            '?x <http://www.w3.org/1999/02/22-rdf-syntax-ns#type> <http://www.w3.org/2002/07/owl#Class> .}} limit 10'.format(uri))\n",
    "        ##type --> The subject is an instance of a class.\n",
    "        sparqldb.setReturnFormat(JSON)\n",
    "        results = sparqldb.query().convert()\n",
    "        instances = set()\n",
    "        for result in results[\"results\"][\"bindings\"]:\n",
    "            instances = result['x']['value']\n",
    "        return instances\n",
    "    \n",
    "\n",
    "        \n"
   ]
  },
  {
   "cell_type": "code",
   "execution_count": 6,
   "metadata": {},
   "outputs": [],
   "source": [
    "wiki_class = []\n",
    "instance_class = []\n",
    "for uri in uris:\n",
    "    instance_class = is_instance_of(uri)\n",
    "    wiki_class.append(instance_class)"
   ]
  },
  {
   "cell_type": "code",
   "execution_count": 7,
   "metadata": {},
   "outputs": [],
   "source": [
    "#CALCULATE THE FREQUENCY FOR EACH CLASS\n",
    "wiki_class = pd.Series(wiki_class, name='Class')\n",
    "value_counts = wiki_class.value_counts(normalize=True,dropna= False)\n",
    "frequency = pd.DataFrame(value_counts.rename_axis('Class').reset_index(name='Frequency'))\n"
   ]
  },
  {
   "cell_type": "code",
   "execution_count": 8,
   "metadata": {},
   "outputs": [
    {
     "data": {
      "text/html": [
       "<div>\n",
       "<style scoped>\n",
       "    .dataframe tbody tr th:only-of-type {\n",
       "        vertical-align: middle;\n",
       "    }\n",
       "\n",
       "    .dataframe tbody tr th {\n",
       "        vertical-align: top;\n",
       "    }\n",
       "\n",
       "    .dataframe thead th {\n",
       "        text-align: right;\n",
       "    }\n",
       "</style>\n",
       "<table border=\"1\" class=\"dataframe\">\n",
       "  <thead>\n",
       "    <tr style=\"text-align: right;\">\n",
       "      <th></th>\n",
       "      <th>Class</th>\n",
       "      <th>Frequency</th>\n",
       "    </tr>\n",
       "  </thead>\n",
       "  <tbody>\n",
       "    <tr>\n",
       "      <td>0</td>\n",
       "      <td>http://dbpedia.org/ontology/Work</td>\n",
       "      <td>0.651815</td>\n",
       "    </tr>\n",
       "    <tr>\n",
       "      <td>1</td>\n",
       "      <td>http://dbpedia.org/ontology/TelevisionShow</td>\n",
       "      <td>0.168317</td>\n",
       "    </tr>\n",
       "    <tr>\n",
       "      <td>2</td>\n",
       "      <td>http://dbpedia.org/ontology/Software</td>\n",
       "      <td>0.151815</td>\n",
       "    </tr>\n",
       "    <tr>\n",
       "      <td>3</td>\n",
       "      <td>{}</td>\n",
       "      <td>0.028053</td>\n",
       "    </tr>\n",
       "  </tbody>\n",
       "</table>\n",
       "</div>"
      ],
      "text/plain": [
       "                                        Class  Frequency\n",
       "0            http://dbpedia.org/ontology/Work   0.651815\n",
       "1  http://dbpedia.org/ontology/TelevisionShow   0.168317\n",
       "2        http://dbpedia.org/ontology/Software   0.151815\n",
       "3                                          {}   0.028053"
      ]
     },
     "execution_count": 8,
     "metadata": {},
     "output_type": "execute_result"
    }
   ],
   "source": [
    "frequency\n"
   ]
  },
  {
   "cell_type": "code",
   "execution_count": null,
   "metadata": {},
   "outputs": [],
   "source": []
  },
  {
   "cell_type": "code",
   "execution_count": null,
   "metadata": {},
   "outputs": [],
   "source": []
  }
 ],
 "metadata": {
  "kernelspec": {
   "display_name": "Python 3",
   "language": "python",
   "name": "python3"
  },
  "language_info": {
   "codemirror_mode": {
    "name": "ipython",
    "version": 3
   },
   "file_extension": ".py",
   "mimetype": "text/x-python",
   "name": "python",
   "nbconvert_exporter": "python",
   "pygments_lexer": "ipython3",
   "version": "3.7.4"
  }
 },
 "nbformat": 4,
 "nbformat_minor": 2
}
